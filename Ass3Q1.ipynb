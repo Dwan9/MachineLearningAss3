{
 "cells": [
  {
   "cell_type": "markdown",
   "metadata": {},
   "source": [
    "This is the solution of Q1-Homework3"
   ]
  },
  {
   "cell_type": "code",
   "execution_count": 6,
   "metadata": {
    "collapsed": false
   },
   "outputs": [],
   "source": [
    "#a\n",
    "import numpy as np  \n",
    "import matplotlib.pyplot as plt  \n",
    "def graph(formula, x_range):  \n",
    "    x = np.array(x_range)  \n",
    "    y = eval(formula)\n",
    "    plt.plot(x, y)  \n",
    "    plt.show()"
   ]
  },
  {
   "cell_type": "code",
   "execution_count": 22,
   "metadata": {
    "collapsed": false
   },
   "outputs": [
    {
     "data": {
      "image/png": "[encoded data removed]",
      "text/plain": [
       "<matplotlib.figure.Figure at 0x7ecbeb0>"
      ]
     },
     "metadata": {},
     "output_type": "display_data"
    }
   ],
   "source": [
    "graph('x**4-x**3-6*x**2+2', np.arange(-3, 4, 0.1))"
   ]
  },
  {
   "cell_type": "code",
   "execution_count": 19,
   "metadata": {
    "collapsed": false
   },
   "outputs": [
    {
     "name": "stdout",
     "output_type": "stream",
     "text": [
      "x= 2.147180859844728\n",
      "x= -1.3971808598447282\n"
     ]
    }
   ],
   "source": [
    "#b\n",
    "from sympy.solvers import solve\n",
    "from sympy import Symbol\n",
    "x = Symbol('x')\n",
    "#derivation 1\n",
    "deriI = solve(4*x**3-3*x**2-12*x, x)\n",
    "for deriIvalue in deriI:\n",
    "    #derivation 2\n",
    "    deriII = eval('12*deriIvalue**2-6*deriIvalue-12')\n",
    "    if(deriII>0):\n",
    "        print (\"x=\", float(deriIvalue))"
   ]
  },
  {
   "cell_type": "code",
   "execution_count": 45,
   "metadata": {
    "collapsed": true
   },
   "outputs": [],
   "source": [
    "#c\n",
    "def GranDescent(deri_formula, startX, alpha, iterations, isDisp, dispLast, dispFirst):\n",
    "    result = startX\n",
    "    for i in range(0, iterations):\n",
    "        x = result\n",
    "        deriValue = eval(deri_formula)\n",
    "        result = result - alpha * deriValue\n",
    "        x = result\n",
    "        if dispLast > 0 or dispFirst > 0:\n",
    "            if dispLast > 0 and i >= iterations-dispLast:\n",
    "                    y = eval('x**4-x**3-6*x**2+2')\n",
    "                    print(\"x\",i+1,\"=\",x,\"  y=\",y)\n",
    "            if dispFirst > 0 and i < dispFirst:\n",
    "                    y = eval('x**4-x**3-6*x**2+2')\n",
    "                    print(\"x\",i+1,\"=\",x,\"  y=\",y)\n",
    "        elif isDisp == True:\n",
    "            y = eval('x**4-x**3-6*x**2+2')\n",
    "            print(\"x\",i+1,\"=\",x,\"  y=\",y)\n",
    "    return result      "
   ]
  },
  {
   "cell_type": "code",
   "execution_count": 46,
   "metadata": {
    "collapsed": false
   },
   "outputs": [
    {
     "name": "stdout",
     "output_type": "stream",
     "text": [
      "x 1 = -2.01   y= 2.2024090099999967\n",
      "x 2 = -1.80517296   y= -1.0506746688458932\n",
      "x 3 = -1.6887372002942342   y= -2.1620496021830657\n",
      "x 4 = -1.6131907829314442   y= -2.643759223369777\n",
      "x 5 = -1.560776434119658   y= -2.8798426186389285\n"
     ]
    }
   ],
   "source": [
    "x = GranDescent('4*x**3-3*x**2-12*x', -3, 0.01, 5, True, 0, 0)"
   ]
  },
  {
   "cell_type": "code",
   "execution_count": 47,
   "metadata": {
    "collapsed": false
   },
   "outputs": [
    {
     "name": "stdout",
     "output_type": "stream",
     "text": [
      "x 996 = -1.3971808598447286   y= -3.174478862050151\n",
      "x 997 = -1.3971808598447286   y= -3.174478862050151\n",
      "x 998 = -1.3971808598447286   y= -3.174478862050151\n",
      "x 999 = -1.3971808598447286   y= -3.174478862050151\n",
      "x 1000 = -1.3971808598447286   y= -3.174478862050151\n"
     ]
    }
   ],
   "source": [
    "x = GranDescent('4*x**3-3*x**2-12*x', -3, 0.01, 1000, False, 5, 0)"
   ]
  },
  {
   "cell_type": "code",
   "execution_count": 48,
   "metadata": {
    "collapsed": false
   },
   "outputs": [
    {
     "name": "stdout",
     "output_type": "stream",
     "text": [
      "x 996 = 2.1471808598447284   y= -14.305989887949849\n",
      "x 997 = 2.1471808598447284   y= -14.305989887949849\n",
      "x 998 = 2.1471808598447284   y= -14.305989887949849\n",
      "x 999 = 2.1471808598447284   y= -14.305989887949849\n",
      "x 1000 = 2.1471808598447284   y= -14.305989887949849\n"
     ]
    }
   ],
   "source": [
    "x = GranDescent('4*x**3-3*x**2-12*x', 4, 0.01, 1000, False, 5, 0)"
   ]
  },
  {
   "cell_type": "code",
   "execution_count": 50,
   "metadata": {
    "collapsed": false
   },
   "outputs": [
    {
     "name": "stdout",
     "output_type": "stream",
     "text": [
      "x 0 = -3   y= 56\n",
      "x 1 = 1.9500000000000002   y= -13.770868750000002\n",
      "x 2 = 2.2074   y= -14.249123781854145\n",
      "x 3 = 2.1115702497552005   y= -14.287029277431827\n",
      "x 4 = 2.164337869864266   y= -14.301471043506545\n",
      "x 5 = 2.1378874913326555   y= -14.304681403723169\n",
      "x 996 = 2.1471808598447284   y= -14.305989887949849\n",
      "x 997 = 2.1471808598447284   y= -14.305989887949849\n",
      "x 998 = 2.1471808598447284   y= -14.305989887949849\n",
      "x 999 = 2.1471808598447284   y= -14.305989887949849\n",
      "x 1000 = 2.1471808598447284   y= -14.305989887949849\n"
     ]
    }
   ],
   "source": [
    "x = -3\n",
    "y = eval('x**4-x**3-6*x**2+2')\n",
    "print(\"x\",0,\"=\",x,\"  y=\",y)\n",
    "x = GranDescent('4*x**3-3*x**2-12*x', -3, 0.05, 1000, False, 5, 5)"
   ]
  },
  {
   "cell_type": "code",
   "execution_count": 57,
   "metadata": {
    "collapsed": false
   },
   "outputs": [
    {
     "ename": "OverflowError",
     "evalue": "(34, 'Result too large')",
     "output_type": "error",
     "traceback": [
      "\u001b[0;31m---------------------------------------------------------------------------\u001b[0m",
      "\u001b[0;31mOverflowError\u001b[0m                             Traceback (most recent call last)",
      "\u001b[0;32m<ipython-input-57-c3e26102b670>\u001b[0m in \u001b[0;36m<module>\u001b[0;34m()\u001b[0m\n\u001b[0;32m----> 1\u001b[0;31m \u001b[0mx\u001b[0m \u001b[1;33m=\u001b[0m \u001b[0mGranDescent\u001b[0m\u001b[1;33m(\u001b[0m\u001b[1;34m'4*x**3-3*x**2-12*x'\u001b[0m\u001b[1;33m,\u001b[0m \u001b[1;33m-\u001b[0m\u001b[1;36m3\u001b[0m\u001b[1;33m,\u001b[0m \u001b[1;36m0.1\u001b[0m\u001b[1;33m,\u001b[0m \u001b[1;36m100\u001b[0m\u001b[1;33m,\u001b[0m \u001b[1;32mFalse\u001b[0m\u001b[1;33m,\u001b[0m \u001b[1;36m5\u001b[0m\u001b[1;33m,\u001b[0m \u001b[1;36m0\u001b[0m\u001b[1;33m)\u001b[0m\u001b[1;33m\u001b[0m\u001b[0m\n\u001b[0m",
      "\u001b[0;32m<ipython-input-45-c5c2c15a060a>\u001b[0m in \u001b[0;36mGranDescent\u001b[0;34m(deri_formula, startX, alpha, iterations, isDisp, dispLast, dispFirst)\u001b[0m\n\u001b[1;32m      4\u001b[0m     \u001b[1;32mfor\u001b[0m \u001b[0mi\u001b[0m \u001b[1;32min\u001b[0m \u001b[0mrange\u001b[0m\u001b[1;33m(\u001b[0m\u001b[1;36m0\u001b[0m\u001b[1;33m,\u001b[0m \u001b[0miterations\u001b[0m\u001b[1;33m)\u001b[0m\u001b[1;33m:\u001b[0m\u001b[1;33m\u001b[0m\u001b[0m\n\u001b[1;32m      5\u001b[0m         \u001b[0mx\u001b[0m \u001b[1;33m=\u001b[0m \u001b[0mresult\u001b[0m\u001b[1;33m\u001b[0m\u001b[0m\n\u001b[0;32m----> 6\u001b[0;31m         \u001b[0mderiValue\u001b[0m \u001b[1;33m=\u001b[0m \u001b[0meval\u001b[0m\u001b[1;33m(\u001b[0m\u001b[0mderi_formula\u001b[0m\u001b[1;33m)\u001b[0m\u001b[1;33m\u001b[0m\u001b[0m\n\u001b[0m\u001b[1;32m      7\u001b[0m         \u001b[0mresult\u001b[0m \u001b[1;33m=\u001b[0m \u001b[0mresult\u001b[0m \u001b[1;33m-\u001b[0m \u001b[0malpha\u001b[0m \u001b[1;33m*\u001b[0m \u001b[0mderiValue\u001b[0m\u001b[1;33m\u001b[0m\u001b[0m\n\u001b[1;32m      8\u001b[0m         \u001b[0mx\u001b[0m \u001b[1;33m=\u001b[0m \u001b[0mresult\u001b[0m\u001b[1;33m\u001b[0m\u001b[0m\n",
      "\u001b[0;32m<string>\u001b[0m in \u001b[0;36m<module>\u001b[0;34m()\u001b[0m\n",
      "\u001b[0;31mOverflowError\u001b[0m: (34, 'Result too large')"
     ]
    }
   ],
   "source": [
    "x = GranDescent('4*x**3-3*x**2-12*x', -3, 0.1, 100, False, 5, 0)"
   ]
  },
  {
   "cell_type": "code",
   "execution_count": 59,
   "metadata": {
    "collapsed": false
   },
   "outputs": [
    {
     "name": "stdout",
     "output_type": "stream",
     "text": [
      "x 3 = 426635.3311259388   y= 3.3130367555655795e+22\n",
      "x 4 = -3.106201906167313e+16   y= 9.309336471948356e+65\n",
      "x 5 = 1.1988063562081808e+49   y= 2.065361836096416e+196\n"
     ]
    },
    {
     "ename": "OverflowError",
     "evalue": "(34, 'Result too large')",
     "output_type": "error",
     "traceback": [
      "\u001b[0;31m---------------------------------------------------------------------------\u001b[0m",
      "\u001b[0;31mOverflowError\u001b[0m                             Traceback (most recent call last)",
      "\u001b[0;32m<ipython-input-59-40b45f347837>\u001b[0m in \u001b[0;36m<module>\u001b[0;34m()\u001b[0m\n\u001b[0;32m----> 1\u001b[0;31m \u001b[0mx\u001b[0m \u001b[1;33m=\u001b[0m \u001b[0mGranDescent\u001b[0m\u001b[1;33m(\u001b[0m\u001b[1;34m'4*x**3-3*x**2-12*x'\u001b[0m\u001b[1;33m,\u001b[0m \u001b[1;33m-\u001b[0m\u001b[1;36m3\u001b[0m\u001b[1;33m,\u001b[0m \u001b[1;36m0.1\u001b[0m\u001b[1;33m,\u001b[0m \u001b[1;36m7\u001b[0m\u001b[1;33m,\u001b[0m \u001b[1;32mFalse\u001b[0m\u001b[1;33m,\u001b[0m \u001b[1;36m5\u001b[0m\u001b[1;33m,\u001b[0m \u001b[1;36m0\u001b[0m\u001b[1;33m)\u001b[0m\u001b[1;33m\u001b[0m\u001b[0m\n\u001b[0m",
      "\u001b[0;32m<ipython-input-45-c5c2c15a060a>\u001b[0m in \u001b[0;36mGranDescent\u001b[0;34m(deri_formula, startX, alpha, iterations, isDisp, dispLast, dispFirst)\u001b[0m\n\u001b[1;32m      9\u001b[0m         \u001b[1;32mif\u001b[0m \u001b[0mdispLast\u001b[0m \u001b[1;33m>\u001b[0m \u001b[1;36m0\u001b[0m \u001b[1;32mor\u001b[0m \u001b[0mdispFirst\u001b[0m \u001b[1;33m>\u001b[0m \u001b[1;36m0\u001b[0m\u001b[1;33m:\u001b[0m\u001b[1;33m\u001b[0m\u001b[0m\n\u001b[1;32m     10\u001b[0m             \u001b[1;32mif\u001b[0m \u001b[0mdispLast\u001b[0m \u001b[1;33m>\u001b[0m \u001b[1;36m0\u001b[0m \u001b[1;32mand\u001b[0m \u001b[0mi\u001b[0m \u001b[1;33m>=\u001b[0m \u001b[0miterations\u001b[0m\u001b[1;33m-\u001b[0m\u001b[0mdispLast\u001b[0m\u001b[1;33m:\u001b[0m\u001b[1;33m\u001b[0m\u001b[0m\n\u001b[0;32m---> 11\u001b[0;31m                     \u001b[0my\u001b[0m \u001b[1;33m=\u001b[0m \u001b[0meval\u001b[0m\u001b[1;33m(\u001b[0m\u001b[1;34m'x**4-x**3-6*x**2+2'\u001b[0m\u001b[1;33m)\u001b[0m\u001b[1;33m\u001b[0m\u001b[0m\n\u001b[0m\u001b[1;32m     12\u001b[0m                     \u001b[0mprint\u001b[0m\u001b[1;33m(\u001b[0m\u001b[1;34m\"x\"\u001b[0m\u001b[1;33m,\u001b[0m\u001b[0mi\u001b[0m\u001b[1;33m+\u001b[0m\u001b[1;36m1\u001b[0m\u001b[1;33m,\u001b[0m\u001b[1;34m\"=\"\u001b[0m\u001b[1;33m,\u001b[0m\u001b[0mx\u001b[0m\u001b[1;33m,\u001b[0m\u001b[1;34m\"  y=\"\u001b[0m\u001b[1;33m,\u001b[0m\u001b[0my\u001b[0m\u001b[1;33m)\u001b[0m\u001b[1;33m\u001b[0m\u001b[0m\n\u001b[1;32m     13\u001b[0m             \u001b[1;32mif\u001b[0m \u001b[0mdispFirst\u001b[0m \u001b[1;33m>\u001b[0m \u001b[1;36m0\u001b[0m \u001b[1;32mand\u001b[0m \u001b[0mi\u001b[0m \u001b[1;33m<\u001b[0m \u001b[0mdispFirst\u001b[0m\u001b[1;33m:\u001b[0m\u001b[1;33m\u001b[0m\u001b[0m\n",
      "\u001b[0;32m<string>\u001b[0m in \u001b[0;36m<module>\u001b[0;34m()\u001b[0m\n",
      "\u001b[0;31mOverflowError\u001b[0m: (34, 'Result too large')"
     ]
    }
   ],
   "source": [
    "x = GranDescent('4*x**3-3*x**2-12*x', -3, 0.1, 7, False, 5, 0)"
   ]
  },
  {
   "cell_type": "code",
   "execution_count": null,
   "metadata": {
    "collapsed": true
   },
   "outputs": [],
   "source": []
  }
 ],
 "metadata": {
  "kernelspec": {
   "display_name": "Python 3",
   "language": "python",
   "name": "python3"
  },
  "language_info": {
   "codemirror_mode": {
    "name": "ipython",
    "version": 3
   },
   "file_extension": ".py",
   "mimetype": "text/x-python",
   "name": "python",
   "nbconvert_exporter": "python",
   "pygments_lexer": "ipython3",
   "version": "3.6.0"
  }
 },
 "nbformat": 4,
 "nbformat_minor": 2
}
